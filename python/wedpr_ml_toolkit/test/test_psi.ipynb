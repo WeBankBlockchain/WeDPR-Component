{
 "cells": [
  {
   "cell_type": "code",
   "execution_count": null,
   "metadata": {},
   "outputs": [],
   "source": [
    "import numpy as np\n",
    "import pandas as pd\n",
    "from wedpr_ml_toolkit.config.wedpr_ml_config import WeDPRMlConfigBuilder\n",
    "from wedpr_ml_toolkit.wedpr_ml_toolkit import WeDPRMlToolkit\n",
    "from wedpr_ml_toolkit.toolkit.dataset_toolkit import DatasetToolkit\n",
    "from wedpr_ml_toolkit.context.data_context import DataContext\n",
    "from wedpr_ml_toolkit.context.job_context import JobType"
   ]
  },
  {
   "cell_type": "code",
   "execution_count": 2,
   "metadata": {},
   "outputs": [],
   "source": [
    "# 读取配置文件\n",
    "wedpr_config = WeDPRMlConfigBuilder.build_from_properties_file('config.properties')\n",
    "wedpr_ml_toolkit = WeDPRMlToolkit(wedpr_config)"
   ]
  },
  {
   "cell_type": "code",
   "execution_count": null,
   "metadata": {},
   "outputs": [],
   "source": [
    "# 注册 dataset1\n",
    "dataset1 = DatasetToolkit(storage_entrypoint=wedpr_ml_toolkit.get_storage_entry_point(),\n",
    "                          storage_workspace=wedpr_config.user_config.get_workspace_path(),\n",
    "                          dataset_owner='flyhuang1',\n",
    "                          agency=wedpr_config.user_config.agency_name,\n",
    "                          dataset_id = 'd-9606704699156485',\n",
    "                          dataset_path=\"/user/ppc/milestone2/sgd/flyhuang1/d-9606704699156485\",\n",
    "                          is_label_holder=True)\n",
    "print(dataset1.storage_client.storage_client.endpoint, dataset1.storage_workspace, dataset1.agency)\n",
    "dataset1.load_values(header=0)\n",
    "print(dataset1.dataset_path)\n",
    "print(dataset1.values.head())"
   ]
  },
  {
   "cell_type": "code",
   "execution_count": null,
   "metadata": {},
   "outputs": [],
   "source": [
    "# 注册 dataset2\n",
    "dataset2 = DatasetToolkit(storage_entrypoint=wedpr_ml_toolkit.get_storage_entry_point(), \n",
    "                          storage_workspace=wedpr_config.user_config.get_workspace_path(), \n",
    "                          dataset_owner='flyhuang',\n",
    "                          dataset_id = 'd-9606695119693829',\n",
    "                          dataset_path=\"/user/ppc/milestone2/webank/flyhuang/d-9606695119693829\", \n",
    "                          agency=\"WeBank\")\n",
    "print(dataset2.storage_client.storage_client.endpoint, dataset2.storage_workspace, dataset2.agency)\n",
    "dataset2.load_values(header=0)\n",
    "print(dataset2.dataset_path)\n",
    "print(dataset2.values.head())"
   ]
  },
  {
   "cell_type": "code",
   "execution_count": null,
   "metadata": {},
   "outputs": [],
   "source": [
    "# 构建 dataset context\n",
    "dataset = DataContext(dataset1, dataset2)\n",
    "print(dataset.datasets)\n",
    "\n",
    "# init the job context\n",
    "project_id = \"9606702107011078\"\n",
    "\n",
    "# 构造psi任务配置\n",
    "psi_job_context = wedpr_ml_toolkit.build_job_context(\n",
    "    JobType.PSI, project_id, dataset, None, \"id\")\n",
    "print(psi_job_context.participant_id_list, psi_job_context.result_receiver_id_list)\n",
    "print(psi_job_context.project_id)\n",
    "\n",
    "psi_job_param = psi_job_context.build()\n",
    "print(psi_job_param.taskParties)\n",
    "print(psi_job_param.datasetList)\n",
    "print(psi_job_param.job)"
   ]
  },
  {
   "cell_type": "code",
   "execution_count": null,
   "metadata": {},
   "outputs": [],
   "source": [
    "# 执行psi任务\n",
    "# psi_job_id = '9670241574201350'  # 测试时跳过创建新任务过程\n",
    "psi_job_id = psi_job_context.submit()\n",
    "print(psi_job_id)"
   ]
  },
  {
   "cell_type": "code",
   "execution_count": null,
   "metadata": {},
   "outputs": [],
   "source": [
    "# 获取psi任务结果\n",
    "# psi_job_id = '9670241574201350'  # 测试时跳过创建新任务过程\n",
    "print(psi_job_id)\n",
    "psi_result = psi_job_context.parse_result(psi_job_id, True)\n",
    "psi_result.load_values()\n",
    "print(psi_result.values.shape)\n",
    "print(psi_result.values.head())"
   ]
  }
 ],
 "metadata": {
  "kernelspec": {
   "display_name": "base",
   "language": "python",
   "name": "python3"
  },
  "language_info": {
   "codemirror_mode": {
    "name": "ipython",
    "version": 3
   },
   "file_extension": ".py",
   "mimetype": "text/x-python",
   "name": "python",
   "nbconvert_exporter": "python",
   "pygments_lexer": "ipython3",
   "version": "3.8.5"
  }
 },
 "nbformat": 4,
 "nbformat_minor": 2
}
