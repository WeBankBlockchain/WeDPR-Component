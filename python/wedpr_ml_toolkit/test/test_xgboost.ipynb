{
 "cells": [
  {
   "cell_type": "code",
   "execution_count": null,
   "metadata": {},
   "outputs": [],
   "source": [
    "import numpy as np\n",
    "import pandas as pd\n",
    "from wedpr_ml_toolkit.config.wedpr_ml_config import WeDPRMlConfigBuilder\n",
    "from wedpr_ml_toolkit.wedpr_ml_toolkit import WeDPRMlToolkit\n",
    "from wedpr_ml_toolkit.toolkit.dataset_toolkit import DatasetToolkit\n",
    "from wedpr_ml_toolkit.context.data_context import DataContext\n",
    "from wedpr_ml_toolkit.context.job_context import JobType"
   ]
  },
  {
   "cell_type": "code",
   "execution_count": 2,
   "metadata": {},
   "outputs": [],
   "source": [
    "# 读取配置文件\n",
    "wedpr_config = WeDPRMlConfigBuilder.build_from_properties_file('config.properties')\n",
    "wedpr_ml_toolkit = WeDPRMlToolkit(wedpr_config)"
   ]
  },
  {
   "cell_type": "code",
   "execution_count": null,
   "metadata": {},
   "outputs": [],
   "source": [
    "# 注册 dataset1\n",
    "dataset1 = DatasetToolkit(storage_entrypoint=wedpr_ml_toolkit.get_storage_entry_point(),\n",
    "                          storage_workspace=wedpr_config.user_config.get_workspace_path(),\n",
    "                          dataset_owner='flyhuang1',\n",
    "                          agency=wedpr_config.user_config.agency_name,\n",
    "                          dataset_id = 'd-9606704699156485',\n",
    "                          dataset_path=\"/user/ppc/milestone2/sgd/flyhuang1/d-9606704699156485\",\n",
    "                          is_label_holder=True)\n",
    "print(dataset1.storage_client.storage_client.endpoint, dataset1.storage_workspace, dataset1.agency)\n",
    "dataset1.load_values(header=0)\n",
    "print(dataset1.dataset_path)\n",
    "print(dataset1.values.head())"
   ]
  },
  {
   "cell_type": "code",
   "execution_count": null,
   "metadata": {},
   "outputs": [],
   "source": [
    "# 注册 dataset2\n",
    "dataset2 = DatasetToolkit(storage_entrypoint=wedpr_ml_toolkit.get_storage_entry_point(), \n",
    "                          storage_workspace=wedpr_config.user_config.get_workspace_path(), \n",
    "                          dataset_owner='flyhuang',\n",
    "                          dataset_id = 'd-9606695119693829',\n",
    "                          dataset_path=\"/user/ppc/milestone2/webank/flyhuang/d-9606695119693829\", \n",
    "                          agency=\"WeBank\")\n",
    "print(dataset2.storage_client.storage_client.endpoint, dataset2.storage_workspace, dataset2.agency)\n",
    "dataset2.load_values(header=0)\n",
    "print(dataset2.dataset_path)\n",
    "print(dataset2.values.head())"
   ]
  },
  {
   "cell_type": "code",
   "execution_count": null,
   "metadata": {},
   "outputs": [],
   "source": [
    "# 构建 dataset context\n",
    "dataset = DataContext(dataset1, dataset2)\n",
    "print(dataset.datasets)\n",
    "\n",
    "# init the job context\n",
    "project_id = \"9606702107011078\"\n",
    "\n",
    "# 构造xgb任务配置\n",
    "model_setting = {'use_psi': 0, 'fillna': 0, 'na_select': 1, 'filloutlier': 0, 'normalized': 0, 'standardized': 0, 'categorical': '', 'psi_select_col': '', 'psi_select_base': '', 'psi_select_thresh': 0.3, 'psi_select_bins': 4, 'corr_select': 0, 'use_iv': 0, 'group_num': 4, 'iv_thresh': 0.1, 'use_goss': 0, 'test_dataset_percentage': 0.3, 'learning_rate': 0.1, 'num_trees': 6, 'max_depth': 3, 'max_bin': 4, 'silent': 0, 'subsample': 1, 'colsample_bytree': 1, 'colsample_bylevel': 1, 'reg_alpha': 0, 'reg_lambda': 1, 'gamma': 0, 'min_child_weight': 0, 'min_child_samples': 10, 'seed': 2024, 'early_stopping_rounds': 0, 'eval_metric': 'auc', 'verbose_eval': 1, 'eval_set_column': '', 'train_set_value': '', 'eval_set_value': '', 'train_features': ''}\n",
    "\n",
    "xgb_job_context = wedpr_ml_toolkit.build_job_context(\n",
    "    JobType.XGB_TRAINING, project_id, dataset, model_setting, \"id\")\n",
    "print(xgb_job_context.participant_id_list, xgb_job_context.result_receiver_id_list)\n",
    "print(xgb_job_context.project_id)\n",
    "\n",
    "xgb_job_param = xgb_job_context.build()\n",
    "print(xgb_job_param.taskParties)\n",
    "print(xgb_job_param.datasetList)\n",
    "print(xgb_job_param.job)\n",
    "# import json\n",
    "# print(json.dumps(xgb_job_param.__dict__))"
   ]
  },
  {
   "cell_type": "code",
   "execution_count": null,
   "metadata": {},
   "outputs": [],
   "source": [
    "# 执行xgb任务\n",
    "# xgb_job_id = '9707983191943174'  # 测试时跳过创建新任务过程\n",
    "xgb_job_id = xgb_job_context.submit()\n",
    "print(xgb_job_id)"
   ]
  },
  {
   "cell_type": "code",
   "execution_count": null,
   "metadata": {},
   "outputs": [],
   "source": [
    "# 获取xgb任务结果\n",
    "# xgb_job_id = '9707983191943174'  # 测试时跳过创建新任务过程\n",
    "print(xgb_job_id)\n",
    "xgb_result = xgb_job_context.parse_result(xgb_job_id, True)\n",
    "xgb_result.train_result.load_values(header = 0)\n",
    "xgb_result.test_result.load_values(header = 0)\n",
    "print(xgb_result.train_result.values.head())\n",
    "print(xgb_result.test_result.values.head())"
   ]
  },
  {
   "cell_type": "code",
   "execution_count": null,
   "metadata": {},
   "outputs": [],
   "source": [
    "# 明文处理预测结果\n",
    "from sklearn.metrics import roc_curve, roc_auc_score, precision_recall_curve, accuracy_score, f1_score, precision_score, recall_score\n",
    "import matplotlib.pyplot as plt\n",
    "\n",
    "data = xgb_result.test_result.values\n",
    "\n",
    "# 提取真实标签和预测概率\n",
    "y_true = data['class_label']\n",
    "y_pred_proba = data['class_pred']\n",
    "y_pred = np.where(y_pred_proba >= 0.5, 1, 0)  # 二分类阈值设为0.5\n",
    "\n",
    "# 计算评估指标\n",
    "accuracy = accuracy_score(y_true, y_pred)\n",
    "precision = precision_score(y_true, y_pred)\n",
    "recall = recall_score(y_true, y_pred)\n",
    "f1 = f1_score(y_true, y_pred)\n",
    "auc = roc_auc_score(y_true, y_pred_proba)\n",
    "\n",
    "print(f\"Accuracy: {accuracy:.2f}\")\n",
    "print(f\"Precision: {precision:.2f}\")\n",
    "print(f\"Recall: {recall:.2f}\")\n",
    "print(f\"F1 Score: {f1:.2f}\")\n",
    "print(f\"AUC: {auc:.2f}\")\n",
    "\n",
    "# ROC 曲线\n",
    "fpr, tpr, _ = roc_curve(y_true, y_pred_proba)\n",
    "plt.figure(figsize=(12, 5))\n",
    "\n",
    "# ROC 曲线\n",
    "plt.subplot(1, 2, 1)\n",
    "plt.plot(fpr, tpr, label=f'AUC = {auc:.2f}')\n",
    "plt.plot([0, 1], [0, 1], 'k--')\n",
    "plt.xlabel('False Positive Rate')\n",
    "plt.ylabel('True Positive Rate')\n",
    "plt.title('ROC Curve')\n",
    "plt.legend()\n",
    "\n",
    "# 精确率-召回率曲线\n",
    "precision_vals, recall_vals, _ = precision_recall_curve(y_true, y_pred_proba)\n",
    "plt.subplot(1, 2, 2)\n",
    "plt.plot(recall_vals, precision_vals)\n",
    "plt.xlabel('Recall')\n",
    "plt.ylabel('Precision')\n",
    "plt.title('Precision-Recall Curve')\n",
    "\n",
    "plt.tight_layout()\n",
    "plt.show()"
   ]
  },
  {
   "cell_type": "code",
   "execution_count": null,
   "metadata": {},
   "outputs": [],
   "source": [
    "# 构造xgb预测任务配置\n",
    "model_setting = {'use_psi': 0, 'use_iv': 0}\n",
    "\n",
    "xgb_job_context = wedpr_ml_toolkit.build_job_context(\n",
    "    JobType.XGB_PREDICTING, project_id, dataset, model_setting, \"id\", xgb_result.model)\n",
    "print(xgb_job_context.participant_id_list, xgb_job_context.result_receiver_id_list)\n",
    "print(xgb_job_context.project_id)\n",
    "\n",
    "xgb_job_param = xgb_job_context.build()\n",
    "print(xgb_job_param.taskParties)\n",
    "print(xgb_job_param.datasetList)\n",
    "# import json\n",
    "# print(json.dumps(xgb_job_param.__dict__))"
   ]
  },
  {
   "cell_type": "code",
   "execution_count": null,
   "metadata": {},
   "outputs": [],
   "source": [
    "# 执行xgb预测任务\n",
    "# xgb_job_id = '9708824062994438'  # 测试时跳过创建新任务过程\n",
    "xgb_job_id = xgb_job_context.submit()\n",
    "print(xgb_job_id)"
   ]
  },
  {
   "cell_type": "code",
   "execution_count": null,
   "metadata": {},
   "outputs": [],
   "source": [
    "# 获取xgb预测任务结果\n",
    "# xgb_job_id = '9708824062994438'  # 测试时跳过创建新任务过程\n",
    "print(xgb_job_id)\n",
    "xgb_result = xgb_job_context.parse_result(xgb_job_id, True)\n",
    "xgb_result.test_result.load_values(header = 0)\n",
    "print(xgb_result.test_result.values.head())"
   ]
  },
  {
   "cell_type": "code",
   "execution_count": null,
   "metadata": {},
   "outputs": [],
   "source": [
    "# 明文处理预测结果\n",
    "from sklearn.metrics import roc_curve, roc_auc_score, precision_recall_curve, accuracy_score, f1_score, precision_score, recall_score\n",
    "import matplotlib.pyplot as plt\n",
    "\n",
    "data = xgb_result.test_result.values\n",
    "\n",
    "# 提取真实标签和预测概率\n",
    "y_true = data['class_label']\n",
    "y_pred_proba = data['class_pred']\n",
    "y_pred = np.where(y_pred_proba >= 0.5, 1, 0)  # 二分类阈值设为0.5\n",
    "\n",
    "# 计算评估指标\n",
    "accuracy = accuracy_score(y_true, y_pred)\n",
    "precision = precision_score(y_true, y_pred)\n",
    "recall = recall_score(y_true, y_pred)\n",
    "f1 = f1_score(y_true, y_pred)\n",
    "auc = roc_auc_score(y_true, y_pred_proba)\n",
    "\n",
    "print(f\"Accuracy: {accuracy:.2f}\")\n",
    "print(f\"Precision: {precision:.2f}\")\n",
    "print(f\"Recall: {recall:.2f}\")\n",
    "print(f\"F1 Score: {f1:.2f}\")\n",
    "print(f\"AUC: {auc:.2f}\")\n",
    "\n",
    "# ROC 曲线\n",
    "fpr, tpr, _ = roc_curve(y_true, y_pred_proba)\n",
    "plt.figure(figsize=(12, 5))\n",
    "\n",
    "# ROC 曲线\n",
    "plt.subplot(1, 2, 1)\n",
    "plt.plot(fpr, tpr, label=f'AUC = {auc:.2f}')\n",
    "plt.plot([0, 1], [0, 1], 'k--')\n",
    "plt.xlabel('False Positive Rate')\n",
    "plt.ylabel('True Positive Rate')\n",
    "plt.title('ROC Curve')\n",
    "plt.legend()\n",
    "\n",
    "# 精确率-召回率曲线\n",
    "precision_vals, recall_vals, _ = precision_recall_curve(y_true, y_pred_proba)\n",
    "plt.subplot(1, 2, 2)\n",
    "plt.plot(recall_vals, precision_vals)\n",
    "plt.xlabel('Recall')\n",
    "plt.ylabel('Precision')\n",
    "plt.title('Precision-Recall Curve')\n",
    "\n",
    "plt.tight_layout()\n",
    "plt.show()"
   ]
  },
  {
   "cell_type": "code",
   "execution_count": null,
   "metadata": {},
   "outputs": [],
   "source": []
  }
 ],
 "metadata": {
  "kernelspec": {
   "display_name": "base",
   "language": "python",
   "name": "python3"
  },
  "language_info": {
   "codemirror_mode": {
    "name": "ipython",
    "version": 3
   },
   "file_extension": ".py",
   "mimetype": "text/x-python",
   "name": "python",
   "nbconvert_exporter": "python",
   "pygments_lexer": "ipython3",
   "version": "3.8.5"
  }
 },
 "nbformat": 4,
 "nbformat_minor": 2
}
